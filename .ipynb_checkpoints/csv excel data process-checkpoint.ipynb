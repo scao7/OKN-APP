{
 "cells": [
  {
   "cell_type": "code",
   "execution_count": null,
   "id": "7ed77c6e-5e8e-4e5f-842a-405b8a681b36",
   "metadata": {},
   "outputs": [],
   "source": [
    "path = \"Datasets/ruralurbancodes2013.xls“"
   ]
  }
 ],
 "metadata": {
  "kernelspec": {
   "display_name": "Python 3 (ipykernel)",
   "language": "python",
   "name": "python3"
  },
  "language_info": {
   "codemirror_mode": {
    "name": "ipython",
    "version": 3
   },
   "file_extension": ".py",
   "mimetype": "text/x-python",
   "name": "python",
   "nbconvert_exporter": "python",
   "pygments_lexer": "ipython3",
   "version": "3.10.14"
  }
 },
 "nbformat": 4,
 "nbformat_minor": 5
}
