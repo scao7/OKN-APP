{
 "cells": [
  {
   "cell_type": "code",
   "execution_count": 2,
   "id": "7ed77c6e-5e8e-4e5f-842a-405b8a681b36",
   "metadata": {},
   "outputs": [],
   "source": [
    "import os \n",
    "import pandas as pd"
   ]
  },
  {
   "cell_type": "code",
   "execution_count": 7,
   "id": "19603532-dcdb-4a76-b6b1-a8e38d9e9ecf",
   "metadata": {},
   "outputs": [
    {
     "name": "stdout",
     "output_type": "stream",
     "text": [
      "okn\n"
     ]
    }
   ],
   "source": [
    "print(os.environ['CONDA_DEFAULT_ENV'])"
   ]
  },
  {
   "cell_type": "code",
   "execution_count": 5,
   "id": "19de48fa-08b4-4046-affb-53d4db8b1c00",
   "metadata": {},
   "outputs": [],
   "source": [
    "df = pd.read_excel(\"Datasets/ruralurbancodes2013.xls\")"
   ]
  },
  {
   "cell_type": "code",
   "execution_count": 8,
   "id": "6d37bc0c-470b-4a7c-aadc-40c087338b6d",
   "metadata": {},
   "outputs": [
    {
     "data": {
      "text/html": [
       "<div>\n",
       "<style scoped>\n",
       "    .dataframe tbody tr th:only-of-type {\n",
       "        vertical-align: middle;\n",
       "    }\n",
       "\n",
       "    .dataframe tbody tr th {\n",
       "        vertical-align: top;\n",
       "    }\n",
       "\n",
       "    .dataframe thead th {\n",
       "        text-align: right;\n",
       "    }\n",
       "</style>\n",
       "<table border=\"1\" class=\"dataframe\">\n",
       "  <thead>\n",
       "    <tr style=\"text-align: right;\">\n",
       "      <th></th>\n",
       "      <th>FIPS</th>\n",
       "      <th>State</th>\n",
       "      <th>County_Name</th>\n",
       "      <th>Population_2010</th>\n",
       "      <th>RUCC_2013</th>\n",
       "      <th>Description</th>\n",
       "    </tr>\n",
       "  </thead>\n",
       "  <tbody>\n",
       "    <tr>\n",
       "      <th>0</th>\n",
       "      <td>1001</td>\n",
       "      <td>AL</td>\n",
       "      <td>Autauga County</td>\n",
       "      <td>54571</td>\n",
       "      <td>2.0</td>\n",
       "      <td>Metro - Counties in metro areas of 250,000 to ...</td>\n",
       "    </tr>\n",
       "    <tr>\n",
       "      <th>1</th>\n",
       "      <td>1003</td>\n",
       "      <td>AL</td>\n",
       "      <td>Baldwin County</td>\n",
       "      <td>182265</td>\n",
       "      <td>3.0</td>\n",
       "      <td>Metro - Counties in metro areas of fewer than ...</td>\n",
       "    </tr>\n",
       "    <tr>\n",
       "      <th>2</th>\n",
       "      <td>1005</td>\n",
       "      <td>AL</td>\n",
       "      <td>Barbour County</td>\n",
       "      <td>27457</td>\n",
       "      <td>6.0</td>\n",
       "      <td>Nonmetro - Urban population of 2,500 to 19,999...</td>\n",
       "    </tr>\n",
       "    <tr>\n",
       "      <th>3</th>\n",
       "      <td>1007</td>\n",
       "      <td>AL</td>\n",
       "      <td>Bibb County</td>\n",
       "      <td>22915</td>\n",
       "      <td>1.0</td>\n",
       "      <td>Metro - Counties in metro areas of 1 million p...</td>\n",
       "    </tr>\n",
       "    <tr>\n",
       "      <th>4</th>\n",
       "      <td>1009</td>\n",
       "      <td>AL</td>\n",
       "      <td>Blount County</td>\n",
       "      <td>57322</td>\n",
       "      <td>1.0</td>\n",
       "      <td>Metro - Counties in metro areas of 1 million p...</td>\n",
       "    </tr>\n",
       "    <tr>\n",
       "      <th>...</th>\n",
       "      <td>...</td>\n",
       "      <td>...</td>\n",
       "      <td>...</td>\n",
       "      <td>...</td>\n",
       "      <td>...</td>\n",
       "      <td>...</td>\n",
       "    </tr>\n",
       "    <tr>\n",
       "      <th>3229</th>\n",
       "      <td>72151</td>\n",
       "      <td>PR</td>\n",
       "      <td>Yabucoa Municipio</td>\n",
       "      <td>37941</td>\n",
       "      <td>1.0</td>\n",
       "      <td>Metro - Counties in metro areas of 1 million p...</td>\n",
       "    </tr>\n",
       "    <tr>\n",
       "      <th>3230</th>\n",
       "      <td>72153</td>\n",
       "      <td>PR</td>\n",
       "      <td>Yauco Municipio</td>\n",
       "      <td>42043</td>\n",
       "      <td>2.0</td>\n",
       "      <td>Metro - Counties in metro areas of 250,000 to ...</td>\n",
       "    </tr>\n",
       "    <tr>\n",
       "      <th>3231</th>\n",
       "      <td>78010</td>\n",
       "      <td>VI</td>\n",
       "      <td>St. Croix Island</td>\n",
       "      <td>50601</td>\n",
       "      <td>5.0</td>\n",
       "      <td>Nonmetro - Urban population of 20,000 or more,...</td>\n",
       "    </tr>\n",
       "    <tr>\n",
       "      <th>3232</th>\n",
       "      <td>78020</td>\n",
       "      <td>VI</td>\n",
       "      <td>St. John Island</td>\n",
       "      <td>4170</td>\n",
       "      <td>7.0</td>\n",
       "      <td>Nonmetro - Urban population of 2,500 to 19,999...</td>\n",
       "    </tr>\n",
       "    <tr>\n",
       "      <th>3233</th>\n",
       "      <td>78030</td>\n",
       "      <td>VI</td>\n",
       "      <td>St. Thomas Island</td>\n",
       "      <td>51634</td>\n",
       "      <td>5.0</td>\n",
       "      <td>Nonmetro - Urban population of 20,000 or more,...</td>\n",
       "    </tr>\n",
       "  </tbody>\n",
       "</table>\n",
       "<p>3234 rows × 6 columns</p>\n",
       "</div>"
      ],
      "text/plain": [
       "       FIPS State        County_Name  Population_2010  RUCC_2013  \\\n",
       "0      1001    AL     Autauga County            54571        2.0   \n",
       "1      1003    AL     Baldwin County           182265        3.0   \n",
       "2      1005    AL     Barbour County            27457        6.0   \n",
       "3      1007    AL        Bibb County            22915        1.0   \n",
       "4      1009    AL      Blount County            57322        1.0   \n",
       "...     ...   ...                ...              ...        ...   \n",
       "3229  72151    PR  Yabucoa Municipio            37941        1.0   \n",
       "3230  72153    PR    Yauco Municipio            42043        2.0   \n",
       "3231  78010    VI   St. Croix Island            50601        5.0   \n",
       "3232  78020    VI    St. John Island             4170        7.0   \n",
       "3233  78030    VI  St. Thomas Island            51634        5.0   \n",
       "\n",
       "                                            Description  \n",
       "0     Metro - Counties in metro areas of 250,000 to ...  \n",
       "1     Metro - Counties in metro areas of fewer than ...  \n",
       "2     Nonmetro - Urban population of 2,500 to 19,999...  \n",
       "3     Metro - Counties in metro areas of 1 million p...  \n",
       "4     Metro - Counties in metro areas of 1 million p...  \n",
       "...                                                 ...  \n",
       "3229  Metro - Counties in metro areas of 1 million p...  \n",
       "3230  Metro - Counties in metro areas of 250,000 to ...  \n",
       "3231  Nonmetro - Urban population of 20,000 or more,...  \n",
       "3232  Nonmetro - Urban population of 2,500 to 19,999...  \n",
       "3233  Nonmetro - Urban population of 20,000 or more,...  \n",
       "\n",
       "[3234 rows x 6 columns]"
      ]
     },
     "execution_count": 8,
     "metadata": {},
     "output_type": "execute_result"
    }
   ],
   "source": [
    "df"
   ]
  },
  {
   "cell_type": "code",
   "execution_count": 4,
   "id": "676e6c8e-ef45-4898-b46b-934f35775586",
   "metadata": {},
   "outputs": [
    {
     "name": "stdout",
     "output_type": "stream",
     "text": [
      "Collecting xlrd\n",
      "  Downloading xlrd-2.0.1-py2.py3-none-any.whl.metadata (3.4 kB)\n",
      "Downloading xlrd-2.0.1-py2.py3-none-any.whl (96 kB)\n",
      "   ---------------------------------------- 0.0/96.5 kB ? eta -:--:--\n",
      "   ---------------------------------------- 0.0/96.5 kB ? eta -:--:--\n",
      "   ---- ----------------------------------- 10.2/96.5 kB ? eta -:--:--\n",
      "   -------------------------------------- - 92.2/96.5 kB 1.0 MB/s eta 0:00:01\n",
      "   ---------------------------------------- 96.5/96.5 kB 918.0 kB/s eta 0:00:00\n",
      "Installing collected packages: xlrd\n",
      "Successfully installed xlrd-2.0.1\n"
     ]
    }
   ],
   "source": []
  },
  {
   "cell_type": "code",
   "execution_count": null,
   "id": "726c4e70-35aa-430c-8f28-1e08af54c12f",
   "metadata": {},
   "outputs": [],
   "source": []
  }
 ],
 "metadata": {
  "kernelspec": {
   "display_name": "Python 3 (ipykernel)",
   "language": "python",
   "name": "python3"
  },
  "language_info": {
   "codemirror_mode": {
    "name": "ipython",
    "version": 3
   },
   "file_extension": ".py",
   "mimetype": "text/x-python",
   "name": "python",
   "nbconvert_exporter": "python",
   "pygments_lexer": "ipython3",
   "version": "3.10.14"
  }
 },
 "nbformat": 4,
 "nbformat_minor": 5
}
